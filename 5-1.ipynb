{
 "metadata": {
  "language_info": {
   "codemirror_mode": {
    "name": "ipython",
    "version": 3
   },
   "file_extension": ".py",
   "mimetype": "text/x-python",
   "name": "python",
   "nbconvert_exporter": "python",
   "pygments_lexer": "ipython3",
   "version": "3.8.2-final"
  },
  "orig_nbformat": 2,
  "kernelspec": {
   "name": "python38232bit1b4dc913332e41cc87ae883ea9ce512f",
   "display_name": "Python 3.8.2 32-bit"
  }
 },
 "nbformat": 4,
 "nbformat_minor": 2,
 "cells": [
  {
   "cell_type": "code",
   "execution_count": 192,
   "metadata": {},
   "outputs": [],
   "source": [
    "square = []\n",
    "square.append(1)\n",
    "square.append(4)\n",
    "square.append(9)\n",
    "square.append(16)\n",
    "square.append(25)\n"
   ]
  },
  {
   "cell_type": "code",
   "execution_count": 193,
   "metadata": {},
   "outputs": [
    {
     "output_type": "execute_result",
     "data": {
      "text/plain": "[1, 4, 9, 16, 25]"
     },
     "metadata": {},
     "execution_count": 193
    }
   ],
   "source": [
    "square"
   ]
  },
  {
   "cell_type": "code",
   "execution_count": 194,
   "metadata": {},
   "outputs": [],
   "source": [
    "square2 = [36, 49]\n",
    "square.extend(square2)"
   ]
  },
  {
   "cell_type": "code",
   "execution_count": 195,
   "metadata": {},
   "outputs": [
    {
     "output_type": "execute_result",
     "data": {
      "text/plain": "[1, 4, 9, 16, 25, 36, 49]"
     },
     "metadata": {},
     "execution_count": 195
    }
   ],
   "source": [
    "square"
   ]
  },
  {
   "cell_type": "code",
   "execution_count": 196,
   "metadata": {},
   "outputs": [],
   "source": [
    "square.insert(2,7)"
   ]
  },
  {
   "cell_type": "code",
   "execution_count": 197,
   "metadata": {},
   "outputs": [
    {
     "output_type": "execute_result",
     "data": {
      "text/plain": "[1, 4, 7, 9, 16, 25, 36, 49]"
     },
     "metadata": {},
     "execution_count": 197
    }
   ],
   "source": [
    "square"
   ]
  },
  {
   "cell_type": "code",
   "execution_count": 198,
   "metadata": {},
   "outputs": [],
   "source": [
    "square.remove(7)"
   ]
  },
  {
   "cell_type": "code",
   "execution_count": 199,
   "metadata": {},
   "outputs": [
    {
     "output_type": "execute_result",
     "data": {
      "text/plain": "[1, 4, 9, 16, 25, 36, 49]"
     },
     "metadata": {},
     "execution_count": 199
    }
   ],
   "source": [
    "square"
   ]
  },
  {
   "cell_type": "code",
   "execution_count": 200,
   "metadata": {},
   "outputs": [
    {
     "output_type": "execute_result",
     "data": {
      "text/plain": "4"
     },
     "metadata": {},
     "execution_count": 200
    }
   ],
   "source": [
    "square.pop(1)"
   ]
  },
  {
   "cell_type": "code",
   "execution_count": 201,
   "metadata": {},
   "outputs": [
    {
     "output_type": "execute_result",
     "data": {
      "text/plain": "[1, 9, 16, 25, 36, 49]"
     },
     "metadata": {},
     "execution_count": 201
    }
   ],
   "source": [
    "square"
   ]
  },
  {
   "cell_type": "code",
   "execution_count": 202,
   "metadata": {},
   "outputs": [],
   "source": [
    "square.clear()"
   ]
  },
  {
   "cell_type": "code",
   "execution_count": 203,
   "metadata": {},
   "outputs": [
    {
     "output_type": "execute_result",
     "data": {
      "text/plain": "[]"
     },
     "metadata": {},
     "execution_count": 203
    }
   ],
   "source": [
    "square"
   ]
  },
  {
   "cell_type": "code",
   "execution_count": 204,
   "metadata": {},
   "outputs": [
    {
     "output_type": "execute_result",
     "data": {
      "text/plain": "3"
     },
     "metadata": {},
     "execution_count": 204
    }
   ],
   "source": [
    "square = [1,4,9,16,25]\n",
    "square.index(16)"
   ]
  },
  {
   "cell_type": "code",
   "execution_count": 205,
   "metadata": {},
   "outputs": [
    {
     "output_type": "execute_result",
     "data": {
      "text/plain": "1"
     },
     "metadata": {},
     "execution_count": 205
    }
   ],
   "source": [
    "square = [1,4,9,16,25]\n",
    "square.count(16)"
   ]
  },
  {
   "cell_type": "code",
   "execution_count": 206,
   "metadata": {},
   "outputs": [
    {
     "output_type": "execute_result",
     "data": {
      "text/plain": "[1, 4, 9, 16, 25]"
     },
     "metadata": {},
     "execution_count": 206
    }
   ],
   "source": [
    "square = [16,9,25,1,4]\n",
    "square.sort()\n",
    "square"
   ]
  },
  {
   "cell_type": "code",
   "execution_count": 207,
   "metadata": {},
   "outputs": [
    {
     "output_type": "execute_result",
     "data": {
      "text/plain": "[[99, 58, 33], [5, 8, 10], [21, 2, 9], [7, 3, 2]]"
     },
     "metadata": {},
     "execution_count": 207
    }
   ],
   "source": [
    "x = [[5, 8, 10],\n",
    "       [7 ,3, 2],\n",
    "       [21, 2, 9],\n",
    "       [99, 58, 33]]\n",
    "x.sort(key=lambda x: x[2], reverse=True)\n",
    "x"
   ]
  },
  {
   "cell_type": "code",
   "execution_count": 208,
   "metadata": {},
   "outputs": [
    {
     "output_type": "execute_result",
     "data": {
      "text/plain": "[25, 16, 9, 4, 1]"
     },
     "metadata": {},
     "execution_count": 208
    }
   ],
   "source": [
    "square = [1,4,9,16,25]\n",
    "square.reverse()\n",
    "square"
   ]
  },
  {
   "cell_type": "code",
   "execution_count": 209,
   "metadata": {},
   "outputs": [
    {
     "output_type": "execute_result",
     "data": {
      "text/plain": "[[1, 4, 9], [16, 25]]"
     },
     "metadata": {},
     "execution_count": 209
    }
   ],
   "source": [
    "square = [[1,4,9],[16,25]]\n",
    "square2 = square.copy()\n",
    "square2"
   ]
  },
  {
   "cell_type": "code",
   "execution_count": 210,
   "metadata": {
    "tags": []
   },
   "outputs": [
    {
     "output_type": "stream",
     "name": "stdout",
     "text": "Suzuki\n"
    }
   ],
   "source": [
    "members = ['Yamada', 'Tanaka', 'Satou', 'Suzuki']\n",
    "name = members.pop(3)\n",
    "print(name)"
   ]
  },
  {
   "cell_type": "code",
   "execution_count": 211,
   "metadata": {
    "tags": []
   },
   "outputs": [
    {
     "output_type": "stream",
     "name": "stdout",
     "text": "stack: [1]\nstack: [1, 2]\npop 1st value: 2\npop 2nd value: 1\nstack: []\n"
    }
   ],
   "source": [
    "stack = []\n",
    "stack.append(1)\n",
    "print('stack:',stack)\n",
    "stack.append(2)\n",
    "print('stack:', stack)\n",
    "print('pop 1st value:',stack.pop())\n",
    "print('pop 2nd value:',stack.pop())\n",
    "print('stack:',stack)"
   ]
  },
  {
   "cell_type": "code",
   "execution_count": 212,
   "metadata": {
    "tags": []
   },
   "outputs": [
    {
     "output_type": "stream",
     "name": "stdout",
     "text": "queue: [1]\npop from queue 1st value: 1\npop from queue 2nd value: 2\nqueue: []\n"
    }
   ],
   "source": [
    "queue = []\n",
    "queue.append(1)\n",
    "print('queue:',queue)\n",
    "queue.append(2)\n",
    "print('pop from queue 1st value:',queue.pop(0))\n",
    "print('pop from queue 2nd value:',queue.pop(0))\n",
    "print('queue:',queue)"
   ]
  },
  {
   "cell_type": "code",
   "execution_count": 213,
   "metadata": {
    "tags": []
   },
   "outputs": [
    {
     "output_type": "stream",
     "name": "stdout",
     "text": "queue: deque([1, 2, 3, 4])\npopleft from queue 1st value: 1\npopleft from queue 2nd value: 2\nqueue: deque([3, 4])\n"
    }
   ],
   "source": [
    "from collections import deque\n",
    "queue = deque([1,2])\n",
    "queue.append(3)\n",
    "queue.append(4)\n",
    "print('queue:',queue)\n",
    "print('popleft from queue 1st value:',queue.popleft())\n",
    "print('popleft from queue 2nd value:',queue.popleft())\n",
    "print('queue:',queue)"
   ]
  },
  {
   "cell_type": "code",
   "execution_count": 214,
   "metadata": {},
   "outputs": [
    {
     "output_type": "execute_result",
     "data": {
      "text/plain": "[[1, 2], [3, 4]]"
     },
     "metadata": {},
     "execution_count": 214
    }
   ],
   "source": [
    "a = [1,2]\n",
    "b = [3,4]\n",
    "x = [a,b]\n",
    "x"
   ]
  },
  {
   "cell_type": "code",
   "execution_count": 215,
   "metadata": {},
   "outputs": [
    {
     "output_type": "execute_result",
     "data": {
      "text/plain": "[[99, 2], [3, 4]]"
     },
     "metadata": {},
     "execution_count": 215
    }
   ],
   "source": [
    "a[0]=99\n",
    "x"
   ]
  },
  {
   "cell_type": "code",
   "execution_count": 216,
   "metadata": {},
   "outputs": [
    {
     "output_type": "execute_result",
     "data": {
      "text/plain": "[[4, 4, 9], [16, 25]]"
     },
     "metadata": {},
     "execution_count": 216
    }
   ],
   "source": [
    "import copy\n",
    "square = [[1,4,9],[16,25]]\n",
    "square2 = copy.copy(square)\n",
    "square[0][0] = 4\n",
    "square2"
   ]
  },
  {
   "cell_type": "code",
   "execution_count": 217,
   "metadata": {},
   "outputs": [
    {
     "output_type": "execute_result",
     "data": {
      "text/plain": "[[36], [16, 25]]"
     },
     "metadata": {},
     "execution_count": 217
    }
   ],
   "source": [
    "import copy\n",
    "square = [[1, 4, 9],[16, 25]]\n",
    "square2 = copy.copy(square)\n",
    "square[0] = [36]\n",
    "square"
   ]
  },
  {
   "cell_type": "code",
   "execution_count": 218,
   "metadata": {},
   "outputs": [
    {
     "output_type": "execute_result",
     "data": {
      "text/plain": "[[1, 4, 9], [16, 25]]"
     },
     "metadata": {},
     "execution_count": 218
    }
   ],
   "source": [
    "square2"
   ]
  },
  {
   "cell_type": "code",
   "execution_count": 219,
   "metadata": {},
   "outputs": [
    {
     "output_type": "execute_result",
     "data": {
      "text/plain": "[[36], [16, 25]]"
     },
     "metadata": {},
     "execution_count": 219
    }
   ],
   "source": [
    "import copy\n",
    "square = [[1,4,9],[16,25]]\n",
    "square2 = square\n",
    "square[0] = [36]\n",
    "square"
   ]
  },
  {
   "cell_type": "code",
   "execution_count": 220,
   "metadata": {},
   "outputs": [
    {
     "output_type": "execute_result",
     "data": {
      "text/plain": "[[36], [16, 25]]"
     },
     "metadata": {},
     "execution_count": 220
    }
   ],
   "source": [
    "square2"
   ]
  },
  {
   "cell_type": "code",
   "execution_count": 222,
   "metadata": {},
   "outputs": [
    {
     "output_type": "execute_result",
     "data": {
      "text/plain": "[[1, 4, 9], [16, 25]]"
     },
     "metadata": {},
     "execution_count": 222
    }
   ],
   "source": [
    "import copy  \n",
    "square = [[1,4,9],[16,25]]\n",
    "square2 = copy.deepcopy(square)\n",
    "square[0][0] = 99\n",
    "square[1] = 999\n",
    "square2"
   ]
  },
  {
   "cell_type": "code",
   "execution_count": null,
   "metadata": {},
   "outputs": [],
   "source": []
  }
 ]
}