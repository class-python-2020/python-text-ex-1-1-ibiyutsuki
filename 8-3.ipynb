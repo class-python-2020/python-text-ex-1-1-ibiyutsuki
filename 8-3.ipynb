{
 "metadata": {
  "language_info": {
   "codemirror_mode": {
    "name": "ipython",
    "version": 3
   },
   "file_extension": ".py",
   "mimetype": "text/x-python",
   "name": "python",
   "nbconvert_exporter": "python",
   "pygments_lexer": "ipython3",
   "version": "3.8.2-final"
  },
  "orig_nbformat": 2,
  "kernelspec": {
   "name": "python38232bit1b4dc913332e41cc87ae883ea9ce512f",
   "display_name": "Python 3.8.2 32-bit"
  }
 },
 "nbformat": 4,
 "nbformat_minor": 2,
 "cells": [
  {
   "cell_type": "code",
   "execution_count": 18,
   "metadata": {},
   "outputs": [
    {
     "output_type": "execute_result",
     "data": {
      "text/plain": "{'す': 1, 'も': 8, 'の': 1, 'う': 1, 'ち': 1}"
     },
     "metadata": {},
     "execution_count": 18
    }
   ],
   "source": [
    "data = 'すもももももももものうち'\n",
    "count_dic = {}\n",
    "for v in data:\n",
    "    if v in count_dic:\n",
    "        count_dic[v] += 1\n",
    "    else:\n",
    "        count_dic[v] = 1\n",
    "count_dic"
   ]
  },
  {
   "cell_type": "code",
   "execution_count": 19,
   "metadata": {},
   "outputs": [
    {
     "output_type": "execute_result",
     "data": {
      "text/plain": "defaultdict(int, {'す': 1, 'も': 8, 'の': 1, 'う': 1, 'ち': 1})"
     },
     "metadata": {},
     "execution_count": 19
    }
   ],
   "source": [
    "import collections\n",
    "count_dic = collections.defaultdict(int)\n",
    "for v in data:\n",
    "    count_dic[v] += 1\n",
    "count_dic"
   ]
  },
  {
   "cell_type": "code",
   "execution_count": 20,
   "metadata": {},
   "outputs": [
    {
     "output_type": "execute_result",
     "data": {
      "text/plain": "0"
     },
     "metadata": {},
     "execution_count": 20
    }
   ],
   "source": [
    "int()"
   ]
  },
  {
   "cell_type": "code",
   "execution_count": 21,
   "metadata": {},
   "outputs": [
    {
     "output_type": "execute_result",
     "data": {
      "text/plain": "defaultdict(list,\n            {'す': ['す'],\n             'も': ['も', 'も', 'も', 'も', 'も', 'も', 'も', 'も'],\n             'の': ['の'],\n             'う': ['う'],\n             'ち': ['ち']})"
     },
     "metadata": {},
     "execution_count": 21
    }
   ],
   "source": [
    "count_dic = collections.defaultdict(list)\n",
    "for v in data:\n",
    "    count_dic[v].append(v)\n",
    "count_dic"
   ]
  },
  {
   "cell_type": "code",
   "execution_count": 22,
   "metadata": {},
   "outputs": [
    {
     "output_type": "execute_result",
     "data": {
      "text/plain": "{'す': ['す'],\n 'も': ['も', 'も', 'も', 'も', 'も', 'も', 'も', 'も'],\n 'の': ['の'],\n 'う': ['う'],\n 'ち': ['ち']}"
     },
     "metadata": {},
     "execution_count": 22
    }
   ],
   "source": [
    "count_dic = {}\n",
    "for v in data:\n",
    "    count_dic.setdefault(v, []).append(v)\n",
    "count_dic"
   ]
  },
  {
   "cell_type": "code",
   "execution_count": 23,
   "metadata": {},
   "outputs": [
    {
     "output_type": "execute_result",
     "data": {
      "text/plain": "Counter({'す': 1, 'も': 8, 'の': 1, 'う': 1, 'ち': 1})"
     },
     "metadata": {},
     "execution_count": 23
    }
   ],
   "source": [
    "counter = collections.Counter(data)\n",
    "counter"
   ]
  },
  {
   "cell_type": "code",
   "execution_count": 24,
   "metadata": {},
   "outputs": [
    {
     "output_type": "execute_result",
     "data": {
      "text/plain": "1"
     },
     "metadata": {},
     "execution_count": 24
    }
   ],
   "source": [
    "counter['す']"
   ]
  },
  {
   "cell_type": "code",
   "execution_count": 25,
   "metadata": {},
   "outputs": [
    {
     "output_type": "execute_result",
     "data": {
      "text/plain": "0"
     },
     "metadata": {},
     "execution_count": 25
    }
   ],
   "source": [
    "counter['ぼ']"
   ]
  },
  {
   "cell_type": "code",
   "execution_count": 26,
   "metadata": {},
   "outputs": [
    {
     "output_type": "execute_result",
     "data": {
      "text/plain": "[('も', 8), ('す', 1), ('の', 1), ('う', 1), ('ち', 1)]"
     },
     "metadata": {},
     "execution_count": 26
    }
   ],
   "source": [
    "counter.most_common()"
   ]
  },
  {
   "cell_type": "code",
   "execution_count": 27,
   "metadata": {},
   "outputs": [
    {
     "output_type": "execute_result",
     "data": {
      "text/plain": "[('も', 8)]"
     },
     "metadata": {},
     "execution_count": 27
    }
   ],
   "source": [
    "counter.most_common(1)"
   ]
  },
  {
   "cell_type": "code",
   "execution_count": 28,
   "metadata": {
    "tags": []
   },
   "outputs": [
    {
     "output_type": "stream",
     "name": "stdout",
     "text": "も 8\n"
    }
   ],
   "source": [
    "top = counter.most_common()[0]\n",
    "print(top[0], top[1])\n"
   ]
  },
  {
   "cell_type": "code",
   "execution_count": 29,
   "metadata": {},
   "outputs": [],
   "source": [
    "CharCount = collections.namedtuple('CharCount',['char', 'count'])\n"
   ]
  },
  {
   "cell_type": "code",
   "execution_count": 30,
   "metadata": {},
   "outputs": [
    {
     "output_type": "execute_result",
     "data": {
      "text/plain": "CharCount(char='も', count=8)"
     },
     "metadata": {},
     "execution_count": 30
    }
   ],
   "source": [
    "mo = CharCount('も',8)\n",
    "mo"
   ]
  },
  {
   "cell_type": "code",
   "execution_count": 31,
   "metadata": {
    "tags": []
   },
   "outputs": [
    {
     "output_type": "stream",
     "name": "stdout",
     "text": "も 8\n"
    }
   ],
   "source": [
    "print(mo.char, mo.count)"
   ]
  },
  {
   "cell_type": "code",
   "execution_count": 32,
   "metadata": {},
   "outputs": [
    {
     "output_type": "error",
     "ename": "AttributeError",
     "evalue": "can't set attribute",
     "traceback": [
      "\u001b[1;31m---------------------------------------------------------------------------\u001b[0m",
      "\u001b[1;31mAttributeError\u001b[0m                            Traceback (most recent call last)",
      "\u001b[1;32m<ipython-input-32-af54518a07c5>\u001b[0m in \u001b[0;36m<module>\u001b[1;34m\u001b[0m\n\u001b[1;32m----> 1\u001b[1;33m \u001b[0mmo\u001b[0m\u001b[1;33m.\u001b[0m\u001b[0mcount\u001b[0m \u001b[1;33m+=\u001b[0m \u001b[1;36m3\u001b[0m\u001b[1;33m\u001b[0m\u001b[1;33m\u001b[0m\u001b[0m\n\u001b[0m",
      "\u001b[1;31mAttributeError\u001b[0m: can't set attribute"
     ]
    }
   ],
   "source": [
    "mo.count += 3"
   ]
  },
  {
   "cell_type": "code",
   "execution_count": 33,
   "metadata": {},
   "outputs": [
    {
     "output_type": "execute_result",
     "data": {
      "text/plain": "[CharCount(char='も', count=8),\n CharCount(char='す', count=1),\n CharCount(char='の', count=1),\n CharCount(char='う', count=1),\n CharCount(char='ち', count=1)]"
     },
     "metadata": {},
     "execution_count": 33
    }
   ],
   "source": [
    "cc_list = [CharCount(*v) for v in counter.most_common()]\n",
    "cc_list"
   ]
  },
  {
   "cell_type": "code",
   "execution_count": 35,
   "metadata": {},
   "outputs": [
    {
     "output_type": "execute_result",
     "data": {
      "text/plain": "['す', 'の', 'う', 'ち']"
     },
     "metadata": {},
     "execution_count": 35
    }
   ],
   "source": [
    "import collections\n",
    "data = 'すもももももももものうち'\n",
    "count = collections.Counter(data)\n",
    "res_dict = collections.defaultdict(list)\n",
    "for ch, cut in count.items():\n",
    "    res_dict[cut].append(ch)\n",
    "res_dict[1]"
   ]
  },
  {
   "cell_type": "code",
   "execution_count": 36,
   "metadata": {},
   "outputs": [
    {
     "output_type": "execute_result",
     "data": {
      "text/plain": "['す', 'の', 'う', 'ち']"
     },
     "metadata": {},
     "execution_count": 36
    }
   ],
   "source": [
    "#importとdata=は省略\n",
    "count = collections.Counter(data)\n",
    "[v[0] for v in count.items() if v[1] == 1]"
   ]
  },
  {
   "cell_type": "code",
   "execution_count": null,
   "metadata": {},
   "outputs": [],
   "source": []
  }
 ]
}