{
 "metadata": {
  "language_info": {
   "codemirror_mode": {
    "name": "ipython",
    "version": 3
   },
   "file_extension": ".py",
   "mimetype": "text/x-python",
   "name": "python",
   "nbconvert_exporter": "python",
   "pygments_lexer": "ipython3",
   "version": "3.8.2-final"
  },
  "orig_nbformat": 2,
  "kernelspec": {
   "name": "python38232bit1b4dc913332e41cc87ae883ea9ce512f",
   "display_name": "Python 3.8.2 32-bit"
  }
 },
 "nbformat": 4,
 "nbformat_minor": 2,
 "cells": [
  {
   "cell_type": "code",
   "execution_count": 11,
   "metadata": {
    "tags": []
   },
   "outputs": [
    {
     "output_type": "stream",
     "name": "stdout",
     "text": "try      +++++++++++++++++++++++\nException +++++++++++++++++++\ntest_list [0, 1, 2, 3, 4, 5, 6, 7, 8, 9, 10]\n\nFainally ++++++++++++++++++++\ntest_list [0, 1, 2, 3, 4, 5, 6, 7, 8, 9, 10]\nfinally: cleat test_list complete\ntest_list []\n"
    }
   ],
   "source": [
    "def generate_intlist(x):\n",
    "    test_list = []\n",
    "    try:\n",
    "        print('try      +++++++++++++++++++++++')\n",
    "        for i in range(x):\n",
    "            test_list.append(i)\n",
    "            if i == 10:\n",
    "                raise Exception()\n",
    "        print(test_list)\n",
    "    except Exception as inst:\n",
    "        print('Exception +++++++++++++++++++')\n",
    "        print('test_list', test_list)\n",
    "        print(inst)\n",
    "    else:\n",
    "        print('Normal Fin ++++++++++++++++++')\n",
    "    finally:\n",
    "        print('Fainally ++++++++++++++++++++')\n",
    "        print('test_list', test_list)\n",
    "        test_list.clear()\n",
    "        print('finally: cleat test_list complete')\n",
    "        print('test_list', test_list)\n",
    "\n",
    "test_list = []\n",
    "generate_intlist(100)"
   ]
  },
  {
   "cell_type": "code",
   "execution_count": null,
   "metadata": {},
   "outputs": [],
   "source": []
  }
 ]
}